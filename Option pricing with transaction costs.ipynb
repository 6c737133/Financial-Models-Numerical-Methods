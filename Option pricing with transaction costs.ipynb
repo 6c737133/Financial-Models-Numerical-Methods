{
 "cells": [
  {
   "cell_type": "markdown",
   "metadata": {},
   "source": [
    "# Davis-Panas-Zariphopoulou model"
   ]
  },
  {
   "cell_type": "markdown",
   "metadata": {},
   "source": [
    "This notebook presents a model for pricing options in a market with proportional transaction costs. The model is taken from the celebrated work of Davis-Panas-Zariphopoulou 1993 [*link-to-the-paper*](https://web.ma.utexas.edu/users/zariphop/pdfs/TZ-7.pdf). \n",
    "\n",
    "#### This is a very powerful model!\n",
    "\n",
    "However, due to its complexity, it is not very well known to the practitioners.\n",
    "\n",
    "The purpose of this notebook is to explain **in simple terms** the main ideas of the model, and show how to implement it numerically. **The results will surprise you!**\n",
    "\n",
    "## Contents\n",
    "   - [Model description](#sec1)\n",
    "      - [Portfolio dynamics (original)](#sec1.1)\n",
    "      - [Some definitions](#sec1.2)\n",
    "   - [Control problem](#sec2)\n",
    "      - [Maximization problem](#sec2.1)\n",
    "      - [Indifference pricing](#sec2.2)\n",
    "   - [Variable reduction](#sec3)\n",
    "      - [Minimization problem](#sec3.1)\n",
    "      - [Portfolio dynamics (2 state variables)](#sec3.2)\n",
    "      - [HJB variational inequality](#sec3.3)\n",
    "      - [Indifference price (explicit form)](#sec3.4)\n",
    "   - [Numerical Solution](#sec4)\n",
    "       - [Discrete SDE](#sec4.1)\n",
    "       - [Algorithm](#sec4.2)\n",
    "   - [Numerical Computations](#sec5)"
   ]
  },
  {
   "cell_type": "code",
   "execution_count": 1,
   "metadata": {},
   "outputs": [],
   "source": [
    "import numpy as np\n",
    "import matplotlib.pyplot as plt\n",
    "%matplotlib inline"
   ]
  },
  {
   "cell_type": "markdown",
   "metadata": {},
   "source": [
    "<a id='sec1'></a>\n",
    "# Model Description"
   ]
  },
  {
   "cell_type": "markdown",
   "metadata": {},
   "source": [
    "<a id='sec1.1'></a>\n",
    "### Portfolio dynamics (original)\n",
    "Let us consider a portfolio composed by: \n",
    "- A bank account $\\mathbf{B}$ paying an interest rate $r > 0$. \n",
    "- A stock $\\mathbf{S}$. \n",
    "- A number of shares $\\mathbf{Y}$ of the stock $\\mathbf{S}$. \n",
    "\n",
    "The 3-D state of the portfolio at time $t\\in [t_0,T]$ is $(B_t,Y_t,S_t)$ and evolves following the SDE:\n",
    "\n",
    "\\begin{equation}\n",
    " \\begin{cases}\n",
    " dB_t &=  rB_t dt - (1+\\theta_b)S_{t} dL_t + (1-\\theta_s) S_{t} dM_t \\\\\n",
    " dY_t &=  dL_t - dM_t \\\\\n",
    " dS_t &=  S_{t} \\left( \\mu dt + \\sigma dW_t \\right).\n",
    "\\end{cases}\n",
    "\\end{equation} \n",
    "\n",
    "The parameters $\\theta_b$, $\\theta_s \\geq 0$ are the proportional transaction costs when buying and selling respectively. \n",
    "\n",
    "The processes  $\\{(L_t, M_t)\\}_{t \\in [t_0,T]}$ are the **trading strategies**, i.e. the **controls** of the problem. \n",
    "\n",
    "The process $\\{L_t\\}_{t}$ represents the cumulative number of shares bought up to time $t$, and $\\{M_t\\}_{t}$ represents the number of shares sold up to time $t$. \n",
    "They are right-continuous, finite variation, non-negative and increasing processes. If the time $t$ is a discontinuous point (there is a transaction), the variation of the processes are indicated as\n",
    "$$ \\Delta L_t= L(t)-L(t^-) \\quad \\quad \\Delta M_t= M(t)-M(t^-) $$\n",
    "\n",
    "Let us consider an example. If at time $t$, the investor wants to buy $\\Delta L_t$ shares. Then the portfolio changes as\n",
    "\n",
    "$$ \\Delta Y_t =  \\underbrace{\\Delta L_t}_{\\mbox{shares bought}} \\quad \\quad\n",
    " \\Delta B_t =  - \\underbrace{(1+\\theta_b)S_t}_{\\mbox{adjusted price}} \\Delta L_t $$\n",
    "\n",
    "where the **adjusted price** is the real cost of the stock (incorporating the transaction cost).\n",
    "\n",
    "If there are no transactions, the portfolio has the simple well known evolution:\n",
    "\\begin{equation}\n",
    " \\begin{cases}\n",
    " dB_t &=  rB_t dt \\\\\n",
    " dY_t &=  0 \\\\\n",
    " dS_t &=  S_{t} \\left( \\mu dt + \\sigma dW_t \\right).\n",
    "\\end{cases}\n",
    "\\end{equation} \n"
   ]
  },
  {
   "cell_type": "markdown",
   "metadata": {},
   "source": [
    "<a id='sec1.2'></a>\n",
    "### Some definitions\n",
    "\n",
    "1. The **cash value** function $c(y,s) : \\mathbb{R} \\times \\mathbb{R}^+ \\to \\mathbb{R}$, is defined as the value in cash when the shares in the portfolio are liquidated i.e.  \n",
    "long positions are sold and short positions are covered.\n",
    "\\begin{equation}\n",
    "c(y,s) := \\begin{cases} \n",
    "(1+\\theta_b)ys, & \\mbox{if } y\\leq 0 \\\\ \n",
    "(1-\\theta_s)ys, & \\mbox{if } y>0 . \n",
    "\\end{cases} \n",
    "\\end{equation}\n",
    "\n",
    "\n",
    "2. For $t\\in [t_0,T]$, the **total wealth** process in a portfolio with zero options is defined as:\n",
    "\\begin{equation}\n",
    " \\mathcal{W}^0_t := B_t + c(Y_t,S_t).\n",
    "\\end{equation} \n",
    "\n",
    "\n",
    "3. If the portfolio contains an option with maturity $T$ and strike $K$, then the wealth process becomes:\n",
    " * Writer:    \\begin{equation}\n",
    "   \\mathcal{W}^{w}_t = \\; B_t + c(Y_t,S_t) \\mathbb{1}_{\\{t < T\\}}\n",
    "   + c(Y_t,S_t) \\mathbb{1}_{\\{t = T,\\, S_t(1+ \\theta_b ) \\leq K\\}}\n",
    "   + \\biggl( c\\bigl( Y_t-1,S_t \\bigr) + K \\biggr) \\mathbb{1}_{\\{t=T,\\, S_t(1+ \\theta_b ) > K \\}}\n",
    "  \\end{equation}\n",
    " * Buyer:     \\begin{equation}\n",
    "   \\mathcal{W}^{b}_t = \\; B_t + c(Y_t,S_t) \\mathbb{1}_{\\{t < T\\}}\n",
    "   + c(Y_t,S_t) \\mathbb{1}_{\\{t = T,\\, S_t(1+ \\theta_b ) \\leq K\\}}\n",
    "   + \\biggl( c\\bigl( Y_t+1,S_t \\bigr) - K \\biggr) \\mathbb{1}_{\\{t=T,\\, S_t(1+ \\theta_b ) > K \\}}\n",
    "  \\end{equation}\n",
    "  \n",
    "For $t_0 \\leq t<T$, the wealths $\\mathcal{W}^{w}_t$ and $\\mathcal{W}^{b}_t$ are equal to $\\mathcal{W}^{0}_t$, but when $t = T$ they differ because of the payoff of the option. The writer gives away a share and recives the strike and the buyer receive a share and pays the strike. \n",
    "\n",
    "Note that considering a market with transaction costs, implies a different condition for the exercise of the option. Now the buyer should exercise if $S_t(1+ \\theta_b ) > K$, because the true price of the share incorporates the value of the transaction costs. Let's see the plot:"
   ]
  },
  {
   "cell_type": "code",
   "execution_count": 2,
   "metadata": {},
   "outputs": [
    {
     "data": {
      "image/png": "[encoded data removed]",
      "text/plain": [
       "<Figure size 432x288 with 1 Axes>"
      ]
     },
     "metadata": {
      "needs_background": "light"
     },
     "output_type": "display_data"
    }
   ],
   "source": [
    "S = np.linspace(14,16,100)\n",
    "K = 15            # strike\n",
    "cost_b = 0.01        # transaction cost \n",
    "\n",
    "plt.plot(S, np.maximum(S-15,0), color='blue',label=\"Usual Payoff\")\n",
    "plt.plot(S, np.maximum(S*(1+cost_b)-15,0), color='red',label=\"New Payoff\")\n",
    "plt.xlabel(\"S\")\n",
    "plt.ylabel(\"Payoff\")\n",
    "plt.title(\"Payoff comparison\")\n",
    "plt.legend(loc='upper left')\n",
    "plt.show()"
   ]
  },
  {
   "cell_type": "markdown",
   "metadata": {},
   "source": [
    "<a id='sec2'></a>\n",
    "## Control problem"
   ]
  },
  {
   "cell_type": "markdown",
   "metadata": {},
   "source": [
    "<a id='sec2.1'></a>\n",
    "### Maximization problem\n",
    "\n",
    "The **value function** of the maximization problem for $j=0,w,b$ (corresponding to the three portfolios: no option, writer, buyer) is defined as:\n",
    "\n",
    "\\begin{equation}\n",
    "V^j(t,b,y,s) = \\sup_{L,M} \\;  \\mathbb{E}\\biggl[ \\; \\mathcal{U}( \\mathcal{W}^{j}_T ) \\; \\bigg| \\; B_{t} = b, Y_{t} = y, S_{t} = s \\biggr],             \n",
    "\\end{equation}\n",
    "\n",
    "where $\\mathcal{U}: \\mathbb{R} \\to \\mathbb{R}$ is a concave increasing **utility function**. The **exponential utility** is what we are looking for:\n",
    "\n",
    "\\begin{equation}\n",
    " \\mathcal{U}(x) := 1- e^{-\\gamma x}   \\quad \\quad \\gamma >0 .\n",
    "\\end{equation}"
   ]
  },
  {
   "cell_type": "markdown",
   "metadata": {},
   "source": [
    "<a id='sec2.2'></a>\n",
    "### Indifference pricing\n",
    "\n",
    "The writer (buyer) option price is defined as the amount of cash to add (subtract) to the bank account, \n",
    "such that the maximal expected utility of wealth of the writer (buyer) is the same he could get with \n",
    "the zero-option portfolio.\n",
    "\n",
    "* The **writer price** is the value $p^w>0$ such that \n",
    " \\begin{equation}\n",
    "  V^0(t,b,y,s) = V^w(t,b+p^w,y,s),\n",
    " \\end{equation}\n",
    " \n",
    "* The **buyer price** is the value $p^b>0$ such that\n",
    " \\begin{equation}\n",
    "  V^0(t,b,y,s) = V^b(t,b-p^b,y,s).\n",
    " \\end{equation}"
   ]
  },
  {
   "cell_type": "markdown",
   "metadata": {},
   "source": [
    "<a id='sec3'></a>\n",
    "## Variable reduction"
   ]
  },
  {
   "cell_type": "markdown",
   "metadata": {},
   "source": [
    "Using the properties of the exponential utility, it is possible to remove $\\mathbf{B}$ from the state variables.\n",
    "\\begin{equation}\n",
    "   V^j(t,b,y,s) = \\sup_{L,M} \\; \\mathbb{E}_{t,b,y,s}\\biggl[  1- e^{-\\gamma \\mathcal{W}^j(T) } \\biggr]   \n",
    "\t     = 1- e^{-\\gamma \\frac{b}{\\delta(t,T)}} Q^j(t,y,s),\n",
    "\\end{equation} \n",
    "where $\\delta(t,T) = e^{-r(T-t)}$. (for the full calculations, check the paper. Equations 4.21 -4.25).\n",
    "\n",
    "<a id='sec3.1'></a>\n",
    "### Minimization problem\n",
    "\n",
    "\\begin{equation}\n",
    "Q^j(t,y,s) = \\inf_{L,M} \\; \\mathbb{E}_{t,y,s}\\biggl[ \\;\n",
    "\t     e^{-\\gamma \\bigl[ -\\int_{t}^T (1+\\theta_b) \\frac{S_u}{\\delta(u,T)} dL_u +\n",
    "\t     \\int_{t}^T (1-\\theta_s) \\frac{S_u}{\\delta(u,T)} dM_u \\bigr] } \\; H^j(Y_T,S_T) \\bigg]  \n",
    "\\end{equation}\n",
    "\n",
    "The exponential term inside the expectation can be considered as a discount factor, and the second term is the terminal payoff:\n",
    " - No option:\n",
    " \\begin{equation}\\label{terminal_c}\n",
    "  H^0(y,s) = e^{-\\gamma \\, c(y,s)}.\n",
    " \\end{equation}\n",
    " - Writer:\n",
    "  \\begin{equation}\\label{terminal_w}\n",
    "  H^w(y,s) = e^{-\\gamma \\bigl[ c(y,s)\\mathbb{1}_{\\{s(1+\\theta_b) \\leq K\\}} + \n",
    " \\bigl( c( y-1,s) + K \\bigr) \\mathbb{1}_{\\{s(1+\\theta_b)>K\\}} \\bigr] }.\n",
    " \\end{equation}\n",
    " - Buyer:\n",
    "  \\begin{equation}\\label{terminal_b}\n",
    "  H^b(y,s) = e^{-\\gamma \\bigl[ c(y,s)\\mathbb{1}_{\\{s(1+\\theta_b) \\leq K\\}} + \n",
    " \\bigl( c( y+1,s) - K \\bigr) \\mathbb{1}_{\\{s(1+\\theta_b)>K\\}} \\bigr] }.\n",
    " \\end{equation}"
   ]
  },
  {
   "cell_type": "markdown",
   "metadata": {},
   "source": [
    "<a id='sec3.2'></a>\n",
    "### Portfolio dynamics (2 state variables)\n",
    "\n",
    "In order to simplify the numerical computations,let us pass to the log-variable $X_t = \\log(S_t)$.\n",
    "\n",
    "The resulting portfolio dynamics is:\n",
    "\n",
    "\\begin{equation}\n",
    " \\begin{cases}\n",
    " dY_t &=  dL_t - dM_t \\\\\n",
    " dX_t &= \\biggl( \\mu - \\frac{1}{2} \\sigma^2 \\biggr) dt + \\sigma dW_t.\n",
    "\\end{cases}\n",
    "\\end{equation} \n"
   ]
  },
  {
   "cell_type": "markdown",
   "metadata": {},
   "source": [
    "<a id='sec3.3'></a>\n",
    "### HJB variational inequality\n",
    "\n",
    "The Hamilton Jacobi Bellman equation associated to the minimization problem is:\n",
    "\n",
    "\\begin{equation}\n",
    " \\min \\; \\biggl\\{ \\; \\frac{\\partial Q^j}{\\partial t} + (\\mu-\\frac{1}{2}\\sigma^2) \\frac{\\partial Q^j}{\\partial x}\n",
    "+ \\frac{1}{2}\\sigma^2 \\frac{\\partial^2 Q^j}{\\partial x^2}  ,\n",
    " \\; \\frac{\\partial Q^j}{\\partial y} +(1+\\theta_b) e^x \\frac{\\gamma}{\\delta(t,T)}Q^j \\; , \n",
    "\\; -\\biggl( \\frac{\\partial Q^j}{\\partial y}+(1-\\theta_s)e^x \\frac{\\gamma}{\\delta(t,T)} Q^j \n",
    "\\biggr) \\biggr\\} = 0. \n",
    "\\end{equation}\n"
   ]
  },
  {
   "cell_type": "markdown",
   "metadata": {},
   "source": [
    "<a id='sec3.4'></a>\n",
    "### Indifference price (explicit form)\n",
    "\n",
    "Using again the explicit form of the utility function, we obtain formulas for the option prices:\n",
    "\\begin{equation}\n",
    " p^w(t_0,y,x) = \\frac{\\delta(t_0,T)}{\\gamma} \\log \\biggl( \\frac{Q^w(t_0,y,e^x)}{Q^0(t_0,y,e^x)} \\biggr),\n",
    "\\end{equation}\n",
    "\\begin{equation}\n",
    " p^b(t_0,y,x) = \\frac{\\delta(t_0,T)}{\\gamma} \\log \\biggl( \\frac{Q^0(t_0,y,e^x)}{Q^b(t_0,y,e^x)} \\biggr).\n",
    "\\end{equation}"
   ]
  },
  {
   "cell_type": "markdown",
   "metadata": {},
   "source": [
    "<a id='sec4'></a>\n",
    "# Numerical Solution"
   ]
  },
  {
   "cell_type": "markdown",
   "metadata": {},
   "source": [
    "<a id='sec4.1'></a>\n",
    "###  Discrete SDE\n",
    "\n",
    "As usual, we introduced the time step $\\Delta t = \\frac{T}{N}$, where we assumed $t_0 = 0$ and $N \\in \\mathbb{N}$. \n",
    "The time $t_n = n \\Delta t$, for $n \\in \\{0,1,2, ..., N\\}$. \n",
    "\n",
    "The space discretization has 2 dimensions:\n",
    "- The space step $h_x$ is defined as $h_x = \\sigma \\sqrt{\\Delta t}$.\n",
    "- The space step is $h_y$. In this computations we choose $h_x = h_y$.\n",
    "\n",
    "The discretized version of the Stochastic Differential equation is: \n",
    "\\begin{equation}\n",
    " \\begin{cases}\n",
    " \\Delta Y_n &= \\; \\Delta L_n - \\Delta M_n \\\\\n",
    " \\Delta X_n &= \\; (\\mu - \\frac{1}{2} \\sigma^2 )  \\Delta t + \\sigma \\Delta W_n\n",
    "\\end{cases}\n",
    "\\end{equation} \n",
    "\n",
    "Both $\\Delta L_n$ and $\\Delta M_n$ at each time $t_n$ can assume values in $\\{0,h_y\\}$. They cannot be different from zero at the same time (It is quite strange to buy and sell at the same time, right?)\n",
    "\n",
    "The variable $\\Delta W_n$ has $\\frac{1}{2}$ probability of being equal to $h_x$ and $\\frac{1}{2}$ probability of being equal to $-h_x$ "
   ]
  },
  {
   "cell_type": "markdown",
   "metadata": {},
   "source": [
    "### Binomial tree with drift"
   ]
  },
  {
   "cell_type": "code",
   "execution_count": 7,
   "metadata": {},
   "outputs": [
    {
     "name": "stdout",
     "output_type": "stream",
     "text": [
      "[2.7080502]\n",
      "[2.63973388 2.80303319]\n",
      "[2.57141755 2.73471687 2.89801618]\n",
      "[2.50310123 2.66640054 2.82969986 2.99299918]\n",
      "[2.4347849  2.59808422 2.76138353 2.92468285 3.08798217]\n",
      "[2.36646858 2.52976789 2.69306721 2.85636653 3.01966584 3.18296516]\n"
     ]
    }
   ],
   "source": [
    "N = 6; dt=1/N; S0 = 15; x0 = np.log(S0) \n",
    "mu = 0.1; sig = 0.2; dx = sig * np.sqrt(dt)\n",
    "\n",
    "for n in range(N):\n",
    "    x = np.array( [x0 + (mu-0.5*sig**2)*dt*n + (2*i-n)*dx for i in range(n+1) ] )\n",
    "    print(x)"
   ]
  },
  {
   "cell_type": "markdown",
   "metadata": {},
   "source": [
    "<a id='sec4.2'></a>\n",
    "###  Algorithm\n",
    "\n",
    "Using the Dynamic Programming Principle (DPP) on the minimization problem we obtain a recursive algorithm on the nodes of the grid.\n",
    "\n",
    "\\begin{align}\n",
    " Q^{j}(t_n,Y_n,X_n) = \\min  \n",
    " & \\; \\biggl\\{ \\mathbb{E}_n \\biggl[ Q \\bigl( t_{n+1}, Y_n, X_n + \\Delta X_n \\bigr) \\biggr], \\\\ \\nonumber\n",
    " & \\; \\exp \\biggl(\\frac{\\gamma}{\\delta(t_n,T)} (1+\\theta_b) e^{X_n} \\Delta L_n \\biggr) \n",
    "  \\mathbb{E}_n \\biggl[ Q^{j} \\bigl( t_{n+1}, Y_n+\\Delta L_n, X_n + \\Delta X_n \\bigr) \\biggr], \\\\ \\nonumber\n",
    " & \\; \\exp \\biggl(\\frac{-\\gamma}{\\delta(t_n,T)} (1-\\theta_s) e^{X_n} \\Delta M_n \\biggr)\n",
    "  \\mathbb{E}_n \\biggl[ Q^{j} \\bigl( t_{n+1}, Y_n-\\Delta M_n, X_n + \\Delta X_n \\bigr) \\biggr]\n",
    " \\biggr\\}.\n",
    "\\end{align}"
   ]
  },
  {
   "cell_type": "markdown",
   "metadata": {},
   "source": [
    "<a id='sec5'></a>\n",
    "# Numerical computations"
   ]
  },
  {
   "cell_type": "code",
   "execution_count": 4,
   "metadata": {},
   "outputs": [],
   "source": [
    "from functions.Parameters import *  \n",
    "\n",
    "opt_param = Option_param(S0=15, K=15, T=1, type_=\"Eu\" )\n",
    "diff_param = Diffusion_param(r=0.01, sig=0.2, mu=0.1)"
   ]
  },
  {
   "cell_type": "code",
   "execution_count": null,
   "metadata": {},
   "outputs": [],
   "source": []
  },
  {
   "cell_type": "code",
   "execution_count": null,
   "metadata": {},
   "outputs": [],
   "source": []
  },
  {
   "cell_type": "code",
   "execution_count": null,
   "metadata": {},
   "outputs": [],
   "source": []
  },
  {
   "cell_type": "code",
   "execution_count": null,
   "metadata": {},
   "outputs": [],
   "source": []
  },
  {
   "cell_type": "code",
   "execution_count": null,
   "metadata": {},
   "outputs": [],
   "source": []
  }
 ],
 "metadata": {
  "kernelspec": {
   "display_name": "Python 3",
   "language": "python",
   "name": "python3"
  },
  "language_info": {
   "codemirror_mode": {
    "name": "ipython",
    "version": 3
   },
   "file_extension": ".py",
   "mimetype": "text/x-python",
   "name": "python",
   "nbconvert_exporter": "python",
   "pygments_lexer": "ipython3",
   "version": "3.6.8"
  }
 },
 "nbformat": 4,
 "nbformat_minor": 2
}
