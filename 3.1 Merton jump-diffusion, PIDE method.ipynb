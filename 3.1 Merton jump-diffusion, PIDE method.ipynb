{
 "cells": [
  {
   "cell_type": "markdown",
   "metadata": {},
   "source": [
    "- Discuss about the convolution methods fft, direct (see end of VG notebook) and with the matrix J\n",
    "- Discuss about the approximations of m"
   ]
  },
  {
   "cell_type": "code",
   "execution_count": 1,
   "metadata": {},
   "outputs": [],
   "source": [
    "from scipy import sparse\n",
    "from scipy.sparse.linalg import splu\n",
    "\n",
    "import numpy as np\n",
    "import scipy as scp\n",
    "import scipy.stats as ss\n",
    "from IPython.display import display\n",
    "import sympy; sympy.init_printing()\n",
    "from scipy import signal\n",
    "from scipy.integrate import quad\n",
    "import matplotlib.pyplot as plt\n",
    "\n",
    "def display_matrix(m):\n",
    "    display(sympy.Matrix(m))"
   ]
  },
  {
   "cell_type": "code",
   "execution_count": 2,
   "metadata": {},
   "outputs": [],
   "source": [
    "r = 0.1; sig = 0.2                \n",
    "S0 = 100; X0 = np.log(S0)          \n",
    "K = 100; Texpir = 1            \n",
    "\n",
    "lam = 0.8; muJ = 0; sigJ = 0.5 \n",
    "\n",
    "Nspace = 16000   # M space steps  5 \n",
    "Ntime = 12000    # N time steps   3\n",
    "S_max = 3*float(K)                \n",
    "S_min = float(K)/3\n",
    "x_max = np.log(S_max)  # A2\n",
    "x_min = np.log(S_min)  # A1\n",
    "\n",
    "dx = (x_max - x_min)/(Nspace-1)\n",
    "extraP = int(np.floor(3*sigJ/dx))  ############### CORREGGI\n",
    "x = np.linspace(x_min-extraP*dx, x_max+extraP*dx, Nspace + 2*extraP)   # space discretization\n",
    "T, dt = np.linspace(0, Texpir, Ntime, retstep=True)       # time discretization"
   ]
  },
  {
   "cell_type": "code",
   "execution_count": 3,
   "metadata": {},
   "outputs": [
    {
     "data": {
      "image/png": "[encoded data removed]",
      "text/latex": [
       "$$11161$$"
      ],
      "text/plain": [
       "11161"
      ]
     },
     "execution_count": 3,
     "metadata": {},
     "output_type": "execute_result"
    }
   ],
   "source": [
    "extraP"
   ]
  },
  {
   "cell_type": "code",
   "execution_count": 17,
   "metadata": {},
   "outputs": [],
   "source": [
    "Payoff = np.maximum(np.exp(x)-K,0)             # Call payoff\n",
    "V = np.zeros((Nspace + 2*extraP, Ntime))       # grid initialization\n",
    "offset = np.zeros(Nspace-2)        # vector to be used for the boundary terms"
   ]
  },
  {
   "cell_type": "code",
   "execution_count": 18,
   "metadata": {},
   "outputs": [],
   "source": [
    "V[:,-1] = Payoff                   # terminal conditions \n",
    "V[-extraP-1:,:] = np.exp(x[-extraP-1:]).reshape(extraP+1,1) * np.ones((extraP+1,Ntime)) - \\\n",
    "                 K * np.exp(-r* T[::-1] ) * np.ones((extraP+1,Ntime))  # boundary condition\n",
    "V[:extraP+1,:] = 0"
   ]
  },
  {
   "cell_type": "code",
   "execution_count": null,
   "metadata": {},
   "outputs": [],
   "source": []
  },
  {
   "cell_type": "code",
   "execution_count": null,
   "metadata": {},
   "outputs": [],
   "source": []
  },
  {
   "cell_type": "code",
   "execution_count": 19,
   "metadata": {},
   "outputs": [],
   "source": [
    "cdf = ss.norm.cdf([np.linspace(-(extraP+1+0.5)*dx, (extraP+1+0.5)*dx, 2*(extraP+2) )], loc=muJ, scale=sigJ)[0]\n",
    "nu = lam * (cdf[1:] - cdf[:-1])"
   ]
  },
  {
   "cell_type": "code",
   "execution_count": 20,
   "metadata": {},
   "outputs": [
    {
     "name": "stdout",
     "output_type": "stream",
     "text": [
      "Truncated jump activity:  0.7999496772796824\n",
      "True value:  0.10651876245346106\n",
      "Truncated value:  0.10635644455202968\n",
      "Approximation value:  0.10635645612875452\n"
     ]
    }
   ],
   "source": [
    "lam_appr = sum(nu)\n",
    "print(\"Truncated jump activity: \", lam_appr)\n",
    "\n",
    "m = lam * (np.exp(muJ + (sigJ**2)/2) -1)\n",
    "print(\"True value: \", m)\n",
    "m_int = quad(lambda z: lam * (np.exp(z)-1) * ss.norm.pdf(z,muJ,sigJ), -(extraP+1.5)*dx, (extraP+1.5)*dx )[0]\n",
    "print(\"Truncated value: \", m_int)\n",
    "m_appr = np.array([ np.exp(i*dx)-1 for i in range(-(extraP+1), extraP+2)]) @ nu\n",
    "print(\"Approximation value: \", m_appr)"
   ]
  },
  {
   "cell_type": "code",
   "execution_count": 21,
   "metadata": {},
   "outputs": [],
   "source": [
    "# construction of the tri-diagonal matrix D\n",
    "sig2 = sig*sig; dxx = dx * dx\n",
    "a = ( (dt/2) * ( (r-m_appr-0.5*sig2)/dx - sig2/dxx ) )\n",
    "b = ( 1 + dt * ( sig2/dxx + r + lam_appr) )\n",
    "c = (-(dt/2) * ( (r-m_appr-0.5*sig2)/dx + sig2/dxx ) )\n",
    "D = sparse.diags([a, b, c], [-1, 0, 1], shape=(Nspace-2, Nspace-2)).tocsc()\n",
    "DD = splu(D)"
   ]
  },
  {
   "cell_type": "code",
   "execution_count": null,
   "metadata": {},
   "outputs": [],
   "source": []
  },
  {
   "cell_type": "code",
   "execution_count": 30,
   "metadata": {},
   "outputs": [],
   "source": [
    "J = np.zeros((Nspace-2, Nspace + 2*extraP))\n",
    "\n",
    "for i in range(Nspace-2):\n",
    "    J[i, i:(len(nu)+i)] = nu"
   ]
  },
  {
   "cell_type": "code",
   "execution_count": 31,
   "metadata": {},
   "outputs": [],
   "source": [
    "#display_matrix(J)"
   ]
  },
  {
   "cell_type": "code",
   "execution_count": 32,
   "metadata": {},
   "outputs": [],
   "source": [
    "#display_matrix(V)"
   ]
  },
  {
   "cell_type": "code",
   "execution_count": 33,
   "metadata": {},
   "outputs": [
    {
     "name": "stdout",
     "output_type": "stream",
     "text": [
      "CPU times: user 3min 59s, sys: 6.47 s, total: 4min 5s\n",
      "Wall time: 1min 2s\n"
     ]
    }
   ],
   "source": [
    "%%time\n",
    "# Backward iteration\n",
    "for i in range(Ntime-2,-1,-1):\n",
    "    offset[0] = a * V[extraP,i]\n",
    "    offset[-1] = c * V[-1-extraP,i]\n",
    "    V_jump = V[extraP+1 : -extraP-1, i+1] + dt * (J @ V[:,i+1])\n",
    "    V[extraP+1 : -extraP-1, i] = DD.solve( V_jump - offset )    "
   ]
  },
  {
   "cell_type": "code",
   "execution_count": 34,
   "metadata": {},
   "outputs": [
    {
     "name": "stdout",
     "output_type": "stream",
     "text": [
      "21.996790482861428\n"
     ]
    }
   ],
   "source": [
    "# finds the option at S0\n",
    "oPrice = np.interp(X0, x, V[:,0])\n",
    "print(oPrice)"
   ]
  },
  {
   "cell_type": "code",
   "execution_count": 22,
   "metadata": {},
   "outputs": [
    {
     "name": "stdout",
     "output_type": "stream",
     "text": [
      "CPU times: user 4.8 s, sys: 28 ms, total: 4.83 s\n",
      "Wall time: 4.83 s\n"
     ]
    }
   ],
   "source": [
    "%%time \n",
    "# Backward iteration\n",
    "for i in range(Ntime-2,-1,-1):\n",
    "    offset[0] = a * V[extraP,i]\n",
    "    offset[-1] = c * V[-1-extraP,i]\n",
    "    V_jump = V[extraP+1 : -extraP-1, i+1] + dt * signal.fftconvolve(V[:,i+1],nu,mode=\"valid\")\n",
    "    V[extraP+1 : -extraP-1, i] = DD.solve( V_jump - offset )    "
   ]
  },
  {
   "cell_type": "code",
   "execution_count": 23,
   "metadata": {},
   "outputs": [
    {
     "name": "stdout",
     "output_type": "stream",
     "text": [
      "22.00433586093113\n"
     ]
    }
   ],
   "source": [
    "# finds the option at S0\n",
    "oPrice = np.interp(X0, x, V[:,0])\n",
    "print(oPrice)"
   ]
  },
  {
   "cell_type": "code",
   "execution_count": 15,
   "metadata": {},
   "outputs": [
    {
     "data": {
      "image/png": "[encoded data removed]",
      "text/latex": [
       "$$\\left ( 8, \\quad 26\\right )$$"
      ],
      "text/plain": [
       "(8, 26)"
      ]
     },
     "execution_count": 15,
     "metadata": {},
     "output_type": "execute_result"
    }
   ],
   "source": [
    "J.shape"
   ]
  },
  {
   "cell_type": "code",
   "execution_count": 17,
   "metadata": {},
   "outputs": [
    {
     "data": {
      "text/plain": [
       "array([  0.95754373,   2.88942592,   7.40140584,  16.36162295,\n",
       "        31.81654344,  55.59075418,  89.20798715, 134.23900835])"
      ]
     },
     "execution_count": 17,
     "metadata": {},
     "output_type": "execute_result"
    }
   ],
   "source": [
    "J @ V[:,-1]"
   ]
  },
  {
   "cell_type": "code",
   "execution_count": 19,
   "metadata": {},
   "outputs": [],
   "source": [
    "VV = V[:,-1]"
   ]
  },
  {
   "cell_type": "code",
   "execution_count": 53,
   "metadata": {},
   "outputs": [],
   "source": [
    "from scipy import signal"
   ]
  },
  {
   "cell_type": "code",
   "execution_count": 40,
   "metadata": {},
   "outputs": [
    {
     "data": {
      "text/plain": [
       "array([  0.95754373,   2.88942592,   7.40140584,  16.36162295,\n",
       "        31.81654344,  55.59075418,  89.20798715, 134.23900835])"
      ]
     },
     "execution_count": 40,
     "metadata": {},
     "output_type": "execute_result"
    }
   ],
   "source": [
    "convol = signal.fftconvolve(VV,nu,mode=\"valid\")\n",
    "convol"
   ]
  },
  {
   "cell_type": "code",
   "execution_count": null,
   "metadata": {},
   "outputs": [],
   "source": [
    "Merton.mesh_plt()"
   ]
  },
  {
   "cell_type": "code",
   "execution_count": 119,
   "metadata": {},
   "outputs": [],
   "source": [
    "from functions.Parameters import Option_param\n",
    "from functions.Processes import Diffusion_process, Merton_process\n",
    "from functions.BS_pricer import BS_pricer\n",
    "from functions.Merton_pricer import Merton_pricer \n",
    "import numpy as np\n",
    "import matplotlib.pyplot as plt"
   ]
  },
  {
   "cell_type": "code",
   "execution_count": 120,
   "metadata": {},
   "outputs": [
    {
     "name": "stdout",
     "output_type": "stream",
     "text": [
      "standard deviation:  0.20591260281974003\n",
      "kurtosis:  97.32111071555713\n"
     ]
    }
   ],
   "source": [
    "# Creates the object with the parameters of the option\n",
    "opt_param = Option_param(S0=15, K=15, T=1, exercise=\"European\", payoff=\"call\" )\n",
    "\n",
    "# Creates the object with the parameters of the process\n",
    "Merton_param = Merton_process(r=0.1, sig=0.1, lam=0.01, muJ=0, sigJ=1.8)\n",
    "diff_param = Diffusion_process(r=0.1, sig=np.sqrt(Merton_param.var))\n",
    "\n",
    "print(\"standard deviation: \", np.sqrt(Merton_param.var) )\n",
    "print(\"kurtosis: \", Merton_param.kurt)\n",
    "\n",
    "# Creates the object of the pricer\n",
    "BS = BS_pricer(opt_param, diff_param)\n",
    "Merton = Merton_pricer(opt_param, Merton_param)"
   ]
  },
  {
   "cell_type": "code",
   "execution_count": 121,
   "metadata": {},
   "outputs": [
    {
     "data": {
      "text/plain": [
       "1.7045338911636234"
      ]
     },
     "execution_count": 121,
     "metadata": {},
     "output_type": "execute_result"
    }
   ],
   "source": [
    "Merton.closed_formula()"
   ]
  },
  {
   "cell_type": "code",
   "execution_count": 122,
   "metadata": {},
   "outputs": [
    {
     "data": {
      "text/plain": [
       "2.0201067538351616"
      ]
     },
     "execution_count": 122,
     "metadata": {},
     "output_type": "execute_result"
    }
   ],
   "source": [
    "BS.closed_formula()"
   ]
  },
  {
   "cell_type": "code",
   "execution_count": 123,
   "metadata": {},
   "outputs": [
    {
     "data": {
      "text/plain": [
       "(2.020050559329645, 0.8478083610534668)"
      ]
     },
     "execution_count": 123,
     "metadata": {},
     "output_type": "execute_result"
    }
   ],
   "source": [
    "BS.PDE_price((6000,3000), Time=True)"
   ]
  },
  {
   "cell_type": "code",
   "execution_count": 124,
   "metadata": {},
   "outputs": [
    {
     "data": {
      "text/plain": [
       "(1.7043241984876165, 18.34526562690735)"
      ]
     },
     "execution_count": 124,
     "metadata": {},
     "output_type": "execute_result"
    }
   ],
   "source": [
    "Merton.PIDE_price((6000,3000), Time=True)"
   ]
  },
  {
   "cell_type": "code",
   "execution_count": 128,
   "metadata": {},
   "outputs": [
    {
     "data": {
      "image/png": "[encoded data removed]",
      "text/plain": [
       "<Figure size 432x288 with 1 Axes>"
      ]
     },
     "metadata": {
      "needs_background": "light"
     },
     "output_type": "display_data"
    }
   ],
   "source": [
    "plt.plot(BS.S_vec, BS.price_vec, color='red',label=\"BS curve\")\n",
    "plt.plot(Merton.S_vec, Merton.price_vec, color='blue',label=\"Merton curve\")\n",
    "plt.plot(Merton.S_vec, Merton.payoff_f(Merton.S_vec), color='black',label=\"Payoff\")\n",
    "plt.axis([9,20,0,8])\n",
    "plt.xlabel(\"S\"); plt.ylabel(\"price\"); plt.title(\"Merton vs Black-Scholes\")\n",
    "plt.legend()\n",
    "#plt.savefig(\"Mert-BS_same_var.png\")"
   ]
  },
  {
   "cell_type": "code",
   "execution_count": null,
   "metadata": {},
   "outputs": [],
   "source": []
  },
  {
   "cell_type": "code",
   "execution_count": 12,
   "metadata": {},
   "outputs": [],
   "source": [
    "#Merton.plot(axis=[40,250,0,150])\n",
    "#BS.plot(axis=[40,250,0,150])"
   ]
  },
  {
   "cell_type": "code",
   "execution_count": null,
   "metadata": {},
   "outputs": [],
   "source": []
  }
 ],
 "metadata": {
  "kernelspec": {
   "display_name": "Python 3",
   "language": "python",
   "name": "python3"
  },
  "language_info": {
   "codemirror_mode": {
    "name": "ipython",
    "version": 3
   },
   "file_extension": ".py",
   "mimetype": "text/x-python",
   "name": "python",
   "nbconvert_exporter": "python",
   "pygments_lexer": "ipython3",
   "version": "3.7.3"
  }
 },
 "nbformat": 4,
 "nbformat_minor": 2
}
