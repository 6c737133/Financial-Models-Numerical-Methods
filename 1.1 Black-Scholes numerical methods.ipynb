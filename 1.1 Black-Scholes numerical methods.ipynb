{
 "cells": [
  {
   "cell_type": "markdown",
   "metadata": {},
   "source": [
    "# Black Scholes valuation methods\n",
    "\n",
    "[*Black Scholes model WIKI*](https://en.wikipedia.org/wiki/Black%E2%80%93Scholes_model). \n",
    "\n",
    "\n",
    "The purpose of this notebook is to review the most common algorithms and implement them numerically. \n",
    "\n",
    "## Contents\n",
    "   - [European option](#sec1)\n",
    "      - [Put-Call parity](#sec1.1)\n",
    "   - [Numerical integration](#sec2)\n",
    "   - [Monte Carlo method](#sec3)\n",
    "   - [Binomial tree](#sec4)\n",
    "   \n",
    "Bachelier?"
   ]
  },
  {
   "cell_type": "markdown",
   "metadata": {},
   "source": [
    "<a id='sec1'></a>\n",
    "## European option"
   ]
  },
  {
   "cell_type": "markdown",
   "metadata": {},
   "source": [
    "<a id='sec1.1'></a>\n",
    "## Put-Call parity"
   ]
  },
  {
   "cell_type": "markdown",
   "metadata": {},
   "source": [
    "<a id='sec2'></a>\n",
    "## Numerical integration"
   ]
  },
  {
   "cell_type": "markdown",
   "metadata": {},
   "source": [
    "<a id='sec3'></a>\n",
    "## Monte Carlo method"
   ]
  },
  {
   "cell_type": "markdown",
   "metadata": {},
   "source": [
    "<a id='sec4'></a>\n",
    "## Binomial tree"
   ]
  },
  {
   "cell_type": "code",
   "execution_count": 81,
   "metadata": {},
   "outputs": [],
   "source": [
    "from functions.BS_pricer import BS_pricer\n",
    "import numpy as np\n",
    "import matplotlib.pyplot as plt\n",
    "\n",
    "import scipy.stats as ss\n",
    "from scipy.integrate import quad"
   ]
  },
  {
   "cell_type": "code",
   "execution_count": 149,
   "metadata": {},
   "outputs": [],
   "source": [
    "S0=100.0; K=100.0; T=1.0; r=0.1; sig=0.2;\n",
    "\n",
    "e_ret = np.log(S0) + ( r - 0.5 * sig**2 ) * T\n",
    "vol = sig * np.sqrt(T)"
   ]
  },
  {
   "cell_type": "code",
   "execution_count": 163,
   "metadata": {},
   "outputs": [
    {
     "data": {
      "text/plain": [
       "3.753418388256833"
      ]
     },
     "execution_count": 163,
     "metadata": {},
     "output_type": "execute_result"
    }
   ],
   "source": [
    "BS_pricer.BlackScholes(\"call\",S0,K,T,r,sig)\n",
    "BS_pricer.BlackScholes(\"put\",S0,K,T,r,sig)"
   ]
  },
  {
   "cell_type": "code",
   "execution_count": 151,
   "metadata": {},
   "outputs": [
    {
     "data": {
      "image/png": "[encoded data removed]",
      "text/plain": [
       "<Figure size 432x288 with 1 Axes>"
      ]
     },
     "metadata": {
      "needs_background": "light"
     },
     "output_type": "display_data"
    }
   ],
   "source": [
    "def log_normal(x,e_ret,vol):\n",
    "    return 1/(x*vol*np.sqrt(2*np.pi)) * np.exp(- (np.log(x) - e_ret)**2 /(2*vol**2) )\n",
    "x = np.linspace(30,190, 100)\n",
    "plt.plot(x, log_normal(x, e_ret,vol))\n",
    "plt.title(\"Lognormal distribution\")\n",
    "plt.show()"
   ]
  },
  {
   "cell_type": "code",
   "execution_count": 162,
   "metadata": {},
   "outputs": [
    {
     "name": "stdout",
     "output_type": "stream",
     "text": [
      "Call price: 13.269676584660926 \n",
      "Put price: 3.753418388256828 \n"
     ]
    }
   ],
   "source": [
    "def integrand_LN(S, strike, e_ret, vol, payoff):\n",
    "    if payoff == \"call\":\n",
    "        return (S - strike ) * ss.lognorm.pdf(S, vol, scale=np.exp(e_ret))\n",
    "    elif payoff == \"put\":\n",
    "        return (strike - S) * ss.lognorm.pdf(S, vol, scale=np.exp(e_ret))\n",
    "\n",
    "call = quad(integrand_LN, K, np.inf, args=(K, e_ret, vol, \"call\") )[0]  * np.exp(-r*T)\n",
    "put = quad(integrand_LN, 0, K, args=(K, e_ret, vol, \"put\") )[0]  * np.exp(-r*T)\n",
    "\n",
    "print(\"Call price: {} \\nPut price: {} \".format(call,put) )"
   ]
  },
  {
   "cell_type": "code",
   "execution_count": null,
   "metadata": {},
   "outputs": [],
   "source": []
  },
  {
   "cell_type": "code",
   "execution_count": null,
   "metadata": {},
   "outputs": [],
   "source": []
  },
  {
   "cell_type": "code",
   "execution_count": null,
   "metadata": {},
   "outputs": [],
   "source": []
  },
  {
   "cell_type": "code",
   "execution_count": null,
   "metadata": {},
   "outputs": [],
   "source": []
  },
  {
   "cell_type": "code",
   "execution_count": null,
   "metadata": {},
   "outputs": [],
   "source": []
  },
  {
   "cell_type": "code",
   "execution_count": null,
   "metadata": {},
   "outputs": [],
   "source": []
  },
  {
   "cell_type": "code",
   "execution_count": null,
   "metadata": {},
   "outputs": [],
   "source": []
  },
  {
   "cell_type": "code",
   "execution_count": null,
   "metadata": {},
   "outputs": [],
   "source": []
  },
  {
   "cell_type": "code",
   "execution_count": null,
   "metadata": {},
   "outputs": [],
   "source": []
  }
 ],
 "metadata": {
  "kernelspec": {
   "display_name": "Python 3",
   "language": "python",
   "name": "python3"
  },
  "language_info": {
   "codemirror_mode": {
    "name": "ipython",
    "version": 3
   },
   "file_extension": ".py",
   "mimetype": "text/x-python",
   "name": "python",
   "nbconvert_exporter": "python",
   "pygments_lexer": "ipython3",
   "version": "3.7.3"
  }
 },
 "nbformat": 4,
 "nbformat_minor": 2
}
