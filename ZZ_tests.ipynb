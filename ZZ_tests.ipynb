{
 "cells": [
  {
   "cell_type": "code",
   "execution_count": 29,
   "metadata": {},
   "outputs": [],
   "source": [
    "class Person:\n",
    "    def __init__(self, name, age):\n",
    "        self.name = name\n",
    "        self.age = age\n",
    "\n",
    "class Person2:\n",
    "    def __init__(self, name, age):\n",
    "        self.__name = name\n",
    "        self.__age = age"
   ]
  },
  {
   "cell_type": "code",
   "execution_count": 35,
   "metadata": {},
   "outputs": [
    {
     "data": {
      "text/plain": [
       "{'_Person2__name': 'nicoo', '_Person2__age': 33}"
      ]
     },
     "execution_count": 35,
     "metadata": {},
     "output_type": "execute_result"
    }
   ],
   "source": [
    "perso = Person(\"nico\", 32)\n",
    "perso2 = Person2(\"nicoo\", 33)\n",
    "perso.age = 31\n",
    "perso.age\n",
    "perso2.__dict__"
   ]
  },
  {
   "cell_type": "code",
   "execution_count": 1,
   "metadata": {},
   "outputs": [
    {
     "name": "stdout",
     "output_type": "stream",
     "text": [
      "added /home/nicola/Documenti/Python/Financial-Stochastic-Models/functions to the sys.path\n"
     ]
    }
   ],
   "source": [
    "# If not in the PYTHONPATH\n",
    "# The following code adds the path where all the modules are included\n",
    "import sys, os\n",
    "functions = os.path.join(os.getcwd(),\"functions\")\n",
    "if functions not in sys.path:\n",
    "    sys.path.append(functions)\n",
    "    print(\"added %s to the sys.path\" %functions)"
   ]
  },
  {
   "cell_type": "code",
   "execution_count": 1,
   "metadata": {},
   "outputs": [],
   "source": [
    "import numpy as np\n",
    "import scipy as scp\n",
    "from scipy.linalg import norm\n",
    "from IPython.display import display\n",
    "import sympy; sympy.init_printing()\n",
    "#from functions.Solvers import Thomas, SOR, SOR2\n",
    "\n",
    "def display_matrix(m):\n",
    "    display(sympy.Matrix(m))"
   ]
  },
  {
   "cell_type": "code",
   "execution_count": 2,
   "metadata": {},
   "outputs": [],
   "source": [
    "A = np.array([[10, 5, 0, 0], [2, 10, 5, 0], [0, 2, 10, 5], [0, 0, 2, 10]], dtype=np.float64) \n",
    "#A = np.array([[10, 5, 0, 0], [2, 15, 2, 0], [0, 8, 13, 1], [0, 0, 1, 8]], dtype=np.float64) \n",
    "#print(\"Matrix A with Rank: \",np.linalg.matrix_rank(A))\n",
    "#display_matrix(A)\n",
    "#print(\"b:\")\n",
    "x = np.array([[1.],[2.],[3.],[4.]])\n",
    "B = A @ x\n",
    "#display_matrix(b)"
   ]
  },
  {
   "cell_type": "code",
   "execution_count": 3,
   "metadata": {},
   "outputs": [],
   "source": [
    "aa = 2.; bb = 10.; cc=5."
   ]
  },
  {
   "cell_type": "code",
   "execution_count": 6,
   "metadata": {},
   "outputs": [
    {
     "data": {
      "text/plain": [
       "array([[10.,  5.,  0.,  0.],\n",
       "       [ 2., 10.,  5.,  0.],\n",
       "       [ 0.,  2., 10.,  5.],\n",
       "       [ 0.,  0.,  2., 10.]])"
      ]
     },
     "execution_count": 6,
     "metadata": {},
     "output_type": "execute_result"
    }
   ],
   "source": [
    "A"
   ]
  },
  {
   "cell_type": "code",
   "execution_count": 28,
   "metadata": {},
   "outputs": [],
   "source": [
    "from scipy import sparse\n",
    "from scipy.sparse.linalg import splu\n",
    "from scipy.sparse.linalg import spsolve"
   ]
  },
  {
   "cell_type": "code",
   "execution_count": 5,
   "metadata": {},
   "outputs": [],
   "source": [
    "r = 0.1; sig = 0.2                \n",
    "S0 = 100; X0 = np.log(S0)          \n",
    "K = 100; Texpir = 1            \n",
    "\n",
    "Nspace = 5   # M space steps\n",
    "Ntime = 4    # N time steps   \n",
    "S_max = 3*float(K)                \n",
    "S_min = float(K)/3\n",
    "x_max = np.log(S_max)  # A2\n",
    "x_min = np.log(S_min)  # A1\n",
    "x, dx = np.linspace(x_min, x_max, Nspace, retstep=True)   # space discretization\n",
    "T, dt = np.linspace(0, Texpir, Ntime, retstep=True)       # time discretization\n",
    "Payoff = np.maximum(np.exp(x)-K,0)          # Call payoff\n",
    "V = np.zeros((Nspace,Ntime))       # grid initialization\n",
    "offset = np.zeros(Nspace-2)        # vector to be used for the boundary terms   \n",
    "V[:,-1] = Payoff                   # terminal conditions \n",
    "V[-1,:] = np.exp(x_max) - K * np.exp(-r* T[::-1] )  # boundary condition\n",
    "V[0,:] = 0 \n",
    "# construction of the tri-diagonal matrix D\n",
    "sig2 = sig*sig; dxx = dx * dx\n",
    "a = ( (dt/2) * ( (r-0.5*sig2)/dx - sig2/dxx ) )\n",
    "b = ( 1 + dt * ( sig2/dxx + r ) )\n",
    "c = (-(dt/2) * ( (r-0.5*sig2)/dx + sig2/dxx ) )\n",
    "#D = sparse.diags([a, b, c], [-1, 0, 1], shape=(Nspace-2, Nspace-2)).toarray()"
   ]
  },
  {
   "cell_type": "code",
   "execution_count": 122,
   "metadata": {},
   "outputs": [
    {
     "name": "stdout",
     "output_type": "stream",
     "text": [
      "CPU times: user 36.8 s, sys: 16 ms, total: 36.8 s\n",
      "Wall time: 36.9 s\n"
     ]
    }
   ],
   "source": [
    "%%time\n",
    "# Backward iteration\n",
    "for i in range(Ntime-2,-1,-1):\n",
    "    offset[0] = a * V[0,i]\n",
    "    offset[-1] = c * V[-1,i]; \n",
    "    V[1:-1,i] = SOR_trid5( a,b,c, (V[1:-1,i+1] - offset), w=1.68, eps=1e-10, N_max=600 )    "
   ]
  },
  {
   "cell_type": "code",
   "execution_count": 104,
   "metadata": {},
   "outputs": [
    {
     "name": "stdout",
     "output_type": "stream",
     "text": [
      "13.269408169918657\n"
     ]
    }
   ],
   "source": [
    "# finds the option at S0\n",
    "oPrice = np.interp(X0, x, V[:,0])\n",
    "print(oPrice)"
   ]
  },
  {
   "cell_type": "markdown",
   "metadata": {},
   "source": []
  }
 ],
 "metadata": {
  "kernelspec": {
   "display_name": "Python 3",
   "language": "python",
   "name": "python3"
  },
  "language_info": {
   "codemirror_mode": {
    "name": "ipython",
    "version": 3
   },
   "file_extension": ".py",
   "mimetype": "text/x-python",
   "name": "python",
   "nbconvert_exporter": "python",
   "pygments_lexer": "ipython3",
   "version": "3.7.3"
  }
 },
 "nbformat": 4,
 "nbformat_minor": 2
}
