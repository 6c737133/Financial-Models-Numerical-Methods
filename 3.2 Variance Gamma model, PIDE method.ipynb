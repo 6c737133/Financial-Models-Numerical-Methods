{
 "cells": [
  {
   "cell_type": "markdown",
   "metadata": {},
   "source": [
    "# The Variance Gamma Partial Integro-Differential Equation\n",
    "\n",
    "## Contents\n",
    "   - [The VG PIDE](#sec1)\n",
    "      - [Euristic derivation](#sec1.1)\n",
    "      - [Implicit discretization](#sec1.2)\n",
    "   - [Introduction to sparse matrices](#sec2)\n",
    "   - [Numerical solution of the PDE](#sec3)\n"
   ]
  },
  {
   "cell_type": "markdown",
   "metadata": {},
   "source": [
    "<a id='sec1'></a>\n",
    "## The VG PIDE   \n",
    "\n",
    "The VG PIDE has the following form:    \n",
    "\n",
    "$$\n",
    "  \\frac{\\partial V(t,x)}{\\partial t} +\n",
    " \\bigl( r-\\frac{1}{2}\\sigma_{\\epsilon}^2 - w_{\\epsilon} \\bigr) \\frac{\\partial V(t,x)}{\\partial x} \n",
    " + \\frac{1}{2}\\sigma_{\\epsilon}^2 \\frac{\\partial^2 V(t,x)}{\\partial x^2}\n",
    " + \\int_{|z| \\geq \\epsilon} V(t,x+z) \\nu(dz) = (\\lambda_{\\epsilon} + r) V(t,x).\n",
    "$$\n",
    "\n",
    "with parameters   \n",
    "\n",
    "$$\n",
    "  \\sigma_{\\epsilon}^2 :=  \\int_{|z| < \\epsilon} z^2 \\nu(dz), \\quad \\quad w_{\\epsilon} := \\int_{|z| \\geq \\epsilon} (e^z-1) \\nu(dz), \\quad \\quad\n",
    " \\lambda_{\\epsilon} :=  \\int_{|z| \\geq \\epsilon} \\nu(dz) .\n",
    "$$\n",
    "\n",
    "and Lévy measure:   \n",
    "\n",
    "$$\n",
    " \\nu(dx) = \\frac{e^{\\frac{\\theta x}{\\bar\\sigma^2}}}{\\kappa|x|} \\exp \n",
    " \\left( - \\frac{\\sqrt{\\frac{2}{\\kappa} + \\frac{\\theta^2}{\\bar\\sigma^2}}}{\\bar\\sigma} |x|\\right) dx,\n",
    "$$"
   ]
  },
  {
   "cell_type": "markdown",
   "metadata": {},
   "source": [
    "This equation is almost identical to equation (\\ref{Merton_PIDE}), except for the truncation in the integral. \n",
    "At this point we can restrict the computational domain on $[A_1,A_2]$ and the integral region on $[-B_1,B_2]$ and using the same discretization\n",
    "used for the Merton PIDE, we can solve the problem with the IMEX scheme.\\\\\n"
   ]
  },
  {
   "cell_type": "code",
   "execution_count": 1,
   "metadata": {},
   "outputs": [],
   "source": [
    "from scipy import sparse\n",
    "from scipy.sparse.linalg import splu\n",
    "\n",
    "import numpy as np\n",
    "import scipy as scp\n",
    "import scipy.stats as ss\n",
    "from IPython.display import display\n",
    "import sympy; sympy.init_printing()\n",
    "from scipy import signal\n",
    "from scipy.integrate import quad\n",
    "import matplotlib.pyplot as plt\n",
    "\n",
    "def display_matrix(m):\n",
    "    display(sympy.Matrix(m))"
   ]
  },
  {
   "cell_type": "code",
   "execution_count": 6,
   "metadata": {},
   "outputs": [],
   "source": [
    "r = 0.1\n",
    "theta = -0.1; sigma = 0.2; kappa = 0.1  \n",
    "omega = - np.log(1 - theta * kappa - kappa/2 * sigma**2 ) /kappa\n",
    "dev_X = np.sqrt(sigma**2 + theta**2 * kappa)     # std VG process\n",
    "\n",
    "S0 = 100; X0 = np.log(S0)          \n",
    "K = 100; Texpir = 1            \n",
    "\n",
    "Nspace = 7   # M space steps 7\n",
    "Ntime = 3    # N time steps  3 \n",
    "S_max = 3*float(K)                \n",
    "S_min = float(K)/3\n",
    "x_max = np.log(S_max)  # A2\n",
    "x_min = np.log(S_min)  # A1\n",
    "\n",
    "dx = (x_max - x_min)/(Nspace-1)\n",
    "extraP = int(np.floor(3*dev_X/dx))\n",
    "x = np.linspace(x_min-extraP*dx, x_max+extraP*dx, Nspace + 2*extraP)   # space discretization\n",
    "T, dt = np.linspace(0, Texpir, Ntime, retstep=True)       # time discretization"
   ]
  },
  {
   "cell_type": "code",
   "execution_count": null,
   "metadata": {},
   "outputs": [],
   "source": []
  },
  {
   "cell_type": "code",
   "execution_count": 349,
   "metadata": {},
   "outputs": [],
   "source": [
    "A = theta/(sigma**2)\n",
    "B = np.sqrt( theta**2 + 2*sigma**2/kappa ) / sigma**2\n",
    "\n",
    "levy_m = lambda y: np.exp( A*y - B*np.abs(y) ) / (kappa*np.abs(y))   # Levy measure VG"
   ]
  },
  {
   "cell_type": "code",
   "execution_count": 350,
   "metadata": {},
   "outputs": [
    {
     "data": {
      "image/png": "[encoded data removed]",
      "text/latex": [
       "$$2579$$"
      ],
      "text/plain": [
       "2579"
      ]
     },
     "execution_count": 350,
     "metadata": {},
     "output_type": "execute_result"
    }
   ],
   "source": [
    "extraP"
   ]
  },
  {
   "cell_type": "code",
   "execution_count": 351,
   "metadata": {},
   "outputs": [],
   "source": [
    "Payoff = np.maximum(np.exp(x)-K,0)             # Call payoff\n",
    "V = np.zeros((Nspace + 2*extraP, Ntime))       # grid initialization\n",
    "offset = np.zeros(Nspace-2)        # vector to be used for the boundary terms\n",
    "\n",
    "V[:,-1] = Payoff                   # terminal conditions \n",
    "V[-extraP-1:,:] = np.exp(x[-extraP-1:]).reshape(extraP+1,1) * np.ones((extraP+1,Ntime)) - \\\n",
    "                 K * np.exp(-r* T[::-1] ) * np.ones((extraP+1,Ntime))  # boundary condition\n",
    "V[:extraP,:] = 0"
   ]
  },
  {
   "cell_type": "code",
   "execution_count": 352,
   "metadata": {},
   "outputs": [],
   "source": [
    "#display_matrix(V)"
   ]
  },
  {
   "cell_type": "code",
   "execution_count": 353,
   "metadata": {},
   "outputs": [],
   "source": [
    "eps = 1.5*dx    # the cutoff near 0\n",
    "\n",
    "lam = quad(levy_m,-(extraP+1.5)*dx,-eps)[0] + quad(levy_m,eps,(extraP+1.5)*dx)[0] # approximated intensity\n",
    "\n",
    "int_w = lambda y: (np.exp(y)-1) * levy_m(y)\n",
    "int_s = lambda y: np.abs(y) * np.exp( A*y - B*np.abs(y) ) / kappa  # avoid division by zero\n",
    "\n",
    "w = quad(int_w, -(extraP+1.5)*dx, -eps)[0] \\\n",
    "       + quad(int_w, eps, (extraP+1.5)*dx)[0]   # is the approx of omega\n",
    "\n",
    "sig2 = quad(int_s,-eps,eps)[0]                   # the small jumps variance\n",
    "sigJ = quad(int_s, -(extraP+1.5)*dx, -eps)[0] \\\n",
    "       + quad(int_s, eps, (extraP+1.5)*dx)[0]   # big jumps variance"
   ]
  },
  {
   "cell_type": "code",
   "execution_count": 354,
   "metadata": {},
   "outputs": [
    {
     "name": "stdout",
     "output_type": "stream",
     "text": [
      "eps =  0.0004709011095877023\n"
     ]
    },
    {
     "data": {
      "image/png": "[encoded data removed]",
      "text/plain": [
       "<Figure size 432x288 with 1 Axes>"
      ]
     },
     "metadata": {
      "needs_background": "light"
     },
     "output_type": "display_data"
    },
    {
     "name": "stdout",
     "output_type": "stream",
     "text": [
      "The intensity lam=79.738193 is very small because the mass is concentrated inside [-eps,eps].\n",
      "\n",
      "Omega:  -0.0796816964917688\n",
      "Approximated Omega: w =  -0.07967726290396099\n",
      "Integral inside the truncation near 0:  -4.4057551702031406e-06\n"
     ]
    },
    {
     "data": {
      "image/png": "[encoded data removed]",
      "text/plain": [
       "<Figure size 432x288 with 1 Axes>"
      ]
     },
     "metadata": {
      "needs_background": "light"
     },
     "output_type": "display_data"
    },
    {
     "name": "stdout",
     "output_type": "stream",
     "text": [
      "The VG variance 0.041000 is equal to the sum of the Var of the decomposed processes 0.041000.\n",
      "Under this discretization the diffusion variance 0.000002 is the major component. \n"
     ]
    }
   ],
   "source": [
    "print(\"eps = \", eps)\n",
    "plt.plot(np.linspace(-1,1,100), levy_m(np.linspace(-1,1,100))); plt.title(\"Lévy measure\"); plt.show()\n",
    "print(\"The intensity lam={:.6f} \\\n",
    "is very small because the mass is concentrated inside [-eps,eps].\".format(lam))\n",
    "print(\"\")\n",
    "\n",
    "print(\"Omega: \", omega)\n",
    "print(\"Approximated Omega: w = \", w)\n",
    "print(\"Integral inside the truncation near 0: \", quad(int_w, -eps, 1e-10)[0] + quad(int_w, 1e-10, eps)[0])\n",
    "plt.plot(np.linspace(-1,1,100), int_w(np.linspace(-1,1,100))); plt.title(\"(e^x-1) * nu(x)\"); plt.show()\n",
    "\n",
    "print(\"The VG variance {0:.6f} is equal to the sum of the Var of the decomposed \\\n",
    "processes {1:.6f}.\".format(sigJ + sig2, dev_X**2) )\n",
    "print(\"Under this discretization the diffusion variance {:.6f} is the major component. \".format(sig2))"
   ]
  },
  {
   "cell_type": "code",
   "execution_count": 355,
   "metadata": {},
   "outputs": [],
   "source": [
    "dxx = dx * dx\n",
    "a = ( (dt/2) * ( (r-w-0.5*sig2)/dx - sig2/dxx ) )\n",
    "b = ( 1 + dt * ( sig2/dxx + r + lam) )\n",
    "c = (-(dt/2) * ( (r-w-0.5*sig2)/dx + sig2/dxx ) )\n",
    "D = sparse.diags([a, b, c], [-1, 0, 1], shape=(Nspace-2, Nspace-2)).tocsc()\n",
    "DD = splu(D)"
   ]
  },
  {
   "cell_type": "code",
   "execution_count": 356,
   "metadata": {},
   "outputs": [],
   "source": [
    "nu = np.zeros(2*extraP+3)        # Lévy measure vector\n",
    "x_med = extraP+1                 # middle point in nu vector\n",
    "x_nu = np.linspace(-(extraP+1+0.5)*dx, (extraP+1+0.5)*dx, 2*(extraP+2) )    # integration domain\n",
    "\n",
    "for i in range(len(nu)):\n",
    "    if (i==x_med) or (i==x_med-1) or (i==x_med+1):\n",
    "        nu[i] = 1e-15\n",
    "        continue\n",
    "    nu[i] = quad(levy_m, x_nu[i], x_nu[i+1])[0]"
   ]
  },
  {
   "cell_type": "code",
   "execution_count": null,
   "metadata": {},
   "outputs": [],
   "source": []
  },
  {
   "cell_type": "code",
   "execution_count": 357,
   "metadata": {},
   "outputs": [
    {
     "name": "stdout",
     "output_type": "stream",
     "text": [
      "CPU times: user 8.74 s, sys: 64 ms, total: 8.8 s\n",
      "Wall time: 8.8 s\n"
     ]
    }
   ],
   "source": [
    "%%time\n",
    "# Backward iteration\n",
    "for i in range(Ntime-2,-1,-1):\n",
    "    offset[0] = a * V[extraP,i]\n",
    "    offset[-1] = c * V[-1-extraP,i]\n",
    "    V_jump = V[extraP+1 : -extraP-1, i+1] + dt * signal.convolve(V[:,i+1],nu[::-1],mode=\"valid\",method=\"auto\")\n",
    "    V[extraP+1 : -extraP-1, i] = DD.solve( V_jump - offset ) "
   ]
  },
  {
   "cell_type": "code",
   "execution_count": 358,
   "metadata": {},
   "outputs": [
    {
     "name": "stdout",
     "output_type": "stream",
     "text": [
      "13.167315652646266\n"
     ]
    }
   ],
   "source": [
    "# finds the option at S0\n",
    "oPrice = np.interp(X0, x, V[:,0])\n",
    "print(oPrice)"
   ]
  },
  {
   "cell_type": "code",
   "execution_count": 345,
   "metadata": {},
   "outputs": [],
   "source": [
    "J = np.zeros((Nspace-2, Nspace + 2*extraP))\n",
    "\n",
    "for i in range(Nspace-2):\n",
    "    J[i, i:(len(nu)+i)] = nu"
   ]
  },
  {
   "cell_type": "code",
   "execution_count": 346,
   "metadata": {},
   "outputs": [
    {
     "name": "stdout",
     "output_type": "stream",
     "text": [
      "CPU times: user 0 ns, sys: 0 ns, total: 0 ns\n",
      "Wall time: 220 µs\n"
     ]
    }
   ],
   "source": [
    "%%time\n",
    "# Backward iteration\n",
    "for i in range(Ntime-2,-1,-1):\n",
    "    offset[0] = a * V[extraP,i]\n",
    "    offset[-1] = c * V[-1-extraP,i]\n",
    "    V_jump = V[extraP+1 : -extraP-1, i+1] + dt * (J @ V[:,i+1])\n",
    "    V[extraP+1 : -extraP-1, i] = DD.solve( V_jump - offset )"
   ]
  },
  {
   "cell_type": "markdown",
   "metadata": {},
   "source": [
    "Remember to mention that it is necessary to flip the nu  because of different definitions. For Merton is the same since nu is symmetric."
   ]
  },
  {
   "cell_type": "code",
   "execution_count": 360,
   "metadata": {},
   "outputs": [
    {
     "data": {
      "text/plain": [
       "array([ 3.40675839e-12, -8.51689597e-13,  6.81351678e-12, ...,\n",
       "        1.59012393e+04,  1.59087357e+04,  1.59162344e+04])"
      ]
     },
     "execution_count": 360,
     "metadata": {},
     "output_type": "execute_result"
    }
   ],
   "source": [
    "VVV1 = signal.convolve(Payoff, nu[::-1], mode=\"valid\", method=\"auto\")\n",
    "VVV1"
   ]
  },
  {
   "cell_type": "code",
   "execution_count": 359,
   "metadata": {},
   "outputs": [],
   "source": [
    "signal.convolve?"
   ]
  },
  {
   "cell_type": "code",
   "execution_count": null,
   "metadata": {},
   "outputs": [],
   "source": []
  },
  {
   "cell_type": "code",
   "execution_count": null,
   "metadata": {},
   "outputs": [],
   "source": []
  },
  {
   "cell_type": "code",
   "execution_count": 1,
   "metadata": {},
   "outputs": [],
   "source": [
    "from functions.Parameters import Option_param\n",
    "from functions.Processes import Diffusion_process, VG_process\n",
    "from functions.BS_pricer import BS_pricer\n",
    "from functions.VG_pricer import VG_pricer\n",
    "import numpy as np\n",
    "import matplotlib.pyplot as plt"
   ]
  },
  {
   "cell_type": "code",
   "execution_count": 4,
   "metadata": {},
   "outputs": [
    {
     "name": "stdout",
     "output_type": "stream",
     "text": [
      "standard deviation:  0.37416573867739417\n",
      "skewness:  -3.05441419328485\n",
      "kurtosis:  14.387755102040819\n"
     ]
    }
   ],
   "source": [
    "# Creates the object with the parameters of the option\n",
    "opt_param = Option_param(S0=15, K=15, T=1, exercise=\"European\", payoff=\"call\" )\n",
    "\n",
    "# Creates the object with the parameters of the process\n",
    "VG_param = VG_process(r=0.1, sigma=0.2, theta=-0.2, kappa=2.5)\n",
    "diff_param = Diffusion_process(r=0.1, sig=np.sqrt(VG_param.var))   \n",
    "\n",
    "print(\"standard deviation: \", np.sqrt(VG_param.var) )\n",
    "print(\"skewness: \", VG_param.skew)\n",
    "print(\"kurtosis: \", VG_param.kurt)\n",
    "\n",
    "# Creates the object of the pricer\n",
    "BS = BS_pricer(opt_param, diff_param)\n",
    "VG = VG_pricer(opt_param, VG_param)"
   ]
  },
  {
   "cell_type": "code",
   "execution_count": 61,
   "metadata": {},
   "outputs": [
    {
     "data": {
      "text/plain": [
       "(2.908103823849625, 1.4802916049957275)"
      ]
     },
     "execution_count": 61,
     "metadata": {},
     "output_type": "execute_result"
    }
   ],
   "source": [
    "BS.PDE_price((7000,4000), Time=True)"
   ]
  },
  {
   "cell_type": "code",
   "execution_count": 62,
   "metadata": {},
   "outputs": [
    {
     "data": {
      "text/plain": [
       "(2.2938035665666563, 8.549956560134888)"
      ]
     },
     "execution_count": 62,
     "metadata": {},
     "output_type": "execute_result"
    }
   ],
   "source": [
    "VG.PIDE_price((7000,4000), Time=True)"
   ]
  },
  {
   "cell_type": "code",
   "execution_count": 64,
   "metadata": {},
   "outputs": [
    {
     "data": {
      "image/png": "[encoded data removed]",
      "text/plain": [
       "<Figure size 432x288 with 1 Axes>"
      ]
     },
     "metadata": {
      "needs_background": "light"
     },
     "output_type": "display_data"
    }
   ],
   "source": [
    "plt.plot(BS.S_vec, BS.price_vec, color='red',label=\"BS curve\")\n",
    "plt.plot(VG.S_vec, VG.price_vec, color='green',label=\"VG curve\")\n",
    "plt.plot(VG.S_vec, VG.payoff_f(VG.S_vec), color='black',label=\"Payoff\")\n",
    "plt.axis([6, 27, 0, 15])\n",
    "plt.xlabel(\"S\"); plt.ylabel(\"price\"); plt.title(\"VG vs Black-Scholes - same variance\")\n",
    "plt.legend()\n",
    "#plt.savefig(\"VG-BS_theta_negative.png\")"
   ]
  },
  {
   "cell_type": "code",
   "execution_count": null,
   "metadata": {},
   "outputs": [],
   "source": []
  }
 ],
 "metadata": {
  "kernelspec": {
   "display_name": "Python 3",
   "language": "python",
   "name": "python3"
  },
  "language_info": {
   "codemirror_mode": {
    "name": "ipython",
    "version": 3
   },
   "file_extension": ".py",
   "mimetype": "text/x-python",
   "name": "python",
   "nbconvert_exporter": "python",
   "pygments_lexer": "ipython3",
   "version": "3.7.3"
  }
 },
 "nbformat": 4,
 "nbformat_minor": 2
}
